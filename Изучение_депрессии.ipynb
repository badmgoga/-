{
  "nbformat": 4,
  "nbformat_minor": 0,
  "metadata": {
    "colab": {
      "provenance": []
    },
    "kernelspec": {
      "name": "python3",
      "display_name": "Python 3"
    },
    "language_info": {
      "name": "python"
    }
  },
  "cells": [
    {
      "cell_type": "markdown",
      "source": [
        "# Исследование депрессии"
      ],
      "metadata": {
        "id": "FEPGNb2qBOAB"
      }
    },
    {
      "cell_type": "markdown",
      "source": [
        "## Импортируем необходимые библиотеки"
      ],
      "metadata": {
        "id": "78Sim4ReBkAW"
      }
    },
    {
      "cell_type": "code",
      "source": [
        "import pandas as pd\n",
        "import matplotlib.pyplot as plt\n",
        "import seaborn as sns\n",
        "import numpy as np\n",
        "from scipy import stats\n",
        "import statsmodels.api as sm\n",
        "from scipy.stats.mstats import zscore\n",
        "import warnings\n",
        "warnings.filterwarnings(\"ignore\") #не показывать предупреждения"
      ],
      "metadata": {
        "id": "Pu0UhV0vBxPD"
      },
      "execution_count": 2,
      "outputs": []
    },
    {
      "cell_type": "markdown",
      "source": [
        "## Обработка данных"
      ],
      "metadata": {
        "id": "DmA_OgFyDgVi"
      }
    },
    {
      "cell_type": "code",
      "execution_count": 3,
      "metadata": {
        "id": "ELBrDWc_A5zF"
      },
      "outputs": [],
      "source": [
        "df = pd.read_excel('Mental health Depression disorder Data.xlsx')"
      ]
    },
    {
      "cell_type": "markdown",
      "source": [
        "Общая инфа"
      ],
      "metadata": {
        "id": "vXgBME8mH2FR"
      }
    },
    {
      "cell_type": "code",
      "source": [
        "print(df.info())"
      ],
      "metadata": {
        "colab": {
          "base_uri": "https://localhost:8080/"
        },
        "id": "xjcY9U5sH2vJ",
        "outputId": "7af7d3c6-5796-4d13-fff7-72a6e814cf6a"
      },
      "execution_count": 4,
      "outputs": [
        {
          "output_type": "stream",
          "name": "stdout",
          "text": [
            "<class 'pandas.core.frame.DataFrame'>\n",
            "RangeIndex: 6468 entries, 0 to 6467\n",
            "Data columns (total 10 columns):\n",
            " #   Column                     Non-Null Count  Dtype  \n",
            "---  ------                     --------------  -----  \n",
            " 0   Entity                     6468 non-null   object \n",
            " 1   Code                       5488 non-null   object \n",
            " 2   Year                       6468 non-null   int64  \n",
            " 3   Schizophrenia (%)          6468 non-null   float64\n",
            " 4   Bipolar disorder (%)       6468 non-null   float64\n",
            " 5   Eating disorders (%)       6468 non-null   float64\n",
            " 6   Anxiety disorders (%)      6468 non-null   float64\n",
            " 7   Drug use disorders (%)     6468 non-null   float64\n",
            " 8   Depression (%)             6468 non-null   float64\n",
            " 9   Alcohol use disorders (%)  6468 non-null   float64\n",
            "dtypes: float64(7), int64(1), object(2)\n",
            "memory usage: 505.4+ KB\n",
            "None\n"
          ]
        }
      ]
    },
    {
      "cell_type": "code",
      "source": [
        "df.head(10)"
      ],
      "metadata": {
        "colab": {
          "base_uri": "https://localhost:8080/",
          "height": 380
        },
        "id": "lhSo63DnBNtG",
        "outputId": "7ca8f9f8-b63c-423c-a47d-1fa6ceb9aee5"
      },
      "execution_count": 5,
      "outputs": [
        {
          "output_type": "execute_result",
          "data": {
            "text/plain": [
              "        Entity Code  Year  Schizophrenia (%)  Bipolar disorder (%)  \\\n",
              "0  Afghanistan  AFG  1990           0.160560              0.697779   \n",
              "1  Afghanistan  AFG  1991           0.160312              0.697961   \n",
              "2  Afghanistan  AFG  1992           0.160135              0.698107   \n",
              "3  Afghanistan  AFG  1993           0.160037              0.698257   \n",
              "4  Afghanistan  AFG  1994           0.160022              0.698469   \n",
              "5  Afghanistan  AFG  1995           0.160076              0.698695   \n",
              "6  Afghanistan  AFG  1996           0.160249              0.698914   \n",
              "7  Afghanistan  AFG  1997           0.160554              0.699127   \n",
              "8  Afghanistan  AFG  1998           0.160931              0.699372   \n",
              "9  Afghanistan  AFG  1999           0.161311              0.699674   \n",
              "\n",
              "   Eating disorders (%)  Anxiety disorders (%)  Drug use disorders (%)  \\\n",
              "0              0.101855               4.828830                1.677082   \n",
              "1              0.099313               4.829740                1.684746   \n",
              "2              0.096692               4.831108                1.694334   \n",
              "3              0.094336               4.830864                1.705320   \n",
              "4              0.092439               4.829423                1.716069   \n",
              "5              0.090980               4.828337                1.728112   \n",
              "6              0.089709               4.828083                1.737643   \n",
              "7              0.088372               4.827726                1.746891   \n",
              "8              0.087330               4.826971                1.756963   \n",
              "9              0.086267               4.826413                1.770791   \n",
              "\n",
              "   Depression (%)  Alcohol use disorders (%)  \n",
              "0        4.071831                   0.672404  \n",
              "1        4.079531                   0.671768  \n",
              "2        4.088358                   0.670644  \n",
              "3        4.096190                   0.669738  \n",
              "4        4.099582                   0.669260  \n",
              "5        4.104207                   0.668746  \n",
              "6        4.107500                   0.667727  \n",
              "7        4.110834                   0.666220  \n",
              "8        4.114438                   0.664676  \n",
              "9        4.117633                   0.663428  "
            ],
            "text/html": [
              "\n",
              "  <div id=\"df-eb83a139-5bfa-4b5e-8ecb-d3393756903e\" class=\"colab-df-container\">\n",
              "    <div>\n",
              "<style scoped>\n",
              "    .dataframe tbody tr th:only-of-type {\n",
              "        vertical-align: middle;\n",
              "    }\n",
              "\n",
              "    .dataframe tbody tr th {\n",
              "        vertical-align: top;\n",
              "    }\n",
              "\n",
              "    .dataframe thead th {\n",
              "        text-align: right;\n",
              "    }\n",
              "</style>\n",
              "<table border=\"1\" class=\"dataframe\">\n",
              "  <thead>\n",
              "    <tr style=\"text-align: right;\">\n",
              "      <th></th>\n",
              "      <th>Entity</th>\n",
              "      <th>Code</th>\n",
              "      <th>Year</th>\n",
              "      <th>Schizophrenia (%)</th>\n",
              "      <th>Bipolar disorder (%)</th>\n",
              "      <th>Eating disorders (%)</th>\n",
              "      <th>Anxiety disorders (%)</th>\n",
              "      <th>Drug use disorders (%)</th>\n",
              "      <th>Depression (%)</th>\n",
              "      <th>Alcohol use disorders (%)</th>\n",
              "    </tr>\n",
              "  </thead>\n",
              "  <tbody>\n",
              "    <tr>\n",
              "      <th>0</th>\n",
              "      <td>Afghanistan</td>\n",
              "      <td>AFG</td>\n",
              "      <td>1990</td>\n",
              "      <td>0.160560</td>\n",
              "      <td>0.697779</td>\n",
              "      <td>0.101855</td>\n",
              "      <td>4.828830</td>\n",
              "      <td>1.677082</td>\n",
              "      <td>4.071831</td>\n",
              "      <td>0.672404</td>\n",
              "    </tr>\n",
              "    <tr>\n",
              "      <th>1</th>\n",
              "      <td>Afghanistan</td>\n",
              "      <td>AFG</td>\n",
              "      <td>1991</td>\n",
              "      <td>0.160312</td>\n",
              "      <td>0.697961</td>\n",
              "      <td>0.099313</td>\n",
              "      <td>4.829740</td>\n",
              "      <td>1.684746</td>\n",
              "      <td>4.079531</td>\n",
              "      <td>0.671768</td>\n",
              "    </tr>\n",
              "    <tr>\n",
              "      <th>2</th>\n",
              "      <td>Afghanistan</td>\n",
              "      <td>AFG</td>\n",
              "      <td>1992</td>\n",
              "      <td>0.160135</td>\n",
              "      <td>0.698107</td>\n",
              "      <td>0.096692</td>\n",
              "      <td>4.831108</td>\n",
              "      <td>1.694334</td>\n",
              "      <td>4.088358</td>\n",
              "      <td>0.670644</td>\n",
              "    </tr>\n",
              "    <tr>\n",
              "      <th>3</th>\n",
              "      <td>Afghanistan</td>\n",
              "      <td>AFG</td>\n",
              "      <td>1993</td>\n",
              "      <td>0.160037</td>\n",
              "      <td>0.698257</td>\n",
              "      <td>0.094336</td>\n",
              "      <td>4.830864</td>\n",
              "      <td>1.705320</td>\n",
              "      <td>4.096190</td>\n",
              "      <td>0.669738</td>\n",
              "    </tr>\n",
              "    <tr>\n",
              "      <th>4</th>\n",
              "      <td>Afghanistan</td>\n",
              "      <td>AFG</td>\n",
              "      <td>1994</td>\n",
              "      <td>0.160022</td>\n",
              "      <td>0.698469</td>\n",
              "      <td>0.092439</td>\n",
              "      <td>4.829423</td>\n",
              "      <td>1.716069</td>\n",
              "      <td>4.099582</td>\n",
              "      <td>0.669260</td>\n",
              "    </tr>\n",
              "    <tr>\n",
              "      <th>5</th>\n",
              "      <td>Afghanistan</td>\n",
              "      <td>AFG</td>\n",
              "      <td>1995</td>\n",
              "      <td>0.160076</td>\n",
              "      <td>0.698695</td>\n",
              "      <td>0.090980</td>\n",
              "      <td>4.828337</td>\n",
              "      <td>1.728112</td>\n",
              "      <td>4.104207</td>\n",
              "      <td>0.668746</td>\n",
              "    </tr>\n",
              "    <tr>\n",
              "      <th>6</th>\n",
              "      <td>Afghanistan</td>\n",
              "      <td>AFG</td>\n",
              "      <td>1996</td>\n",
              "      <td>0.160249</td>\n",
              "      <td>0.698914</td>\n",
              "      <td>0.089709</td>\n",
              "      <td>4.828083</td>\n",
              "      <td>1.737643</td>\n",
              "      <td>4.107500</td>\n",
              "      <td>0.667727</td>\n",
              "    </tr>\n",
              "    <tr>\n",
              "      <th>7</th>\n",
              "      <td>Afghanistan</td>\n",
              "      <td>AFG</td>\n",
              "      <td>1997</td>\n",
              "      <td>0.160554</td>\n",
              "      <td>0.699127</td>\n",
              "      <td>0.088372</td>\n",
              "      <td>4.827726</td>\n",
              "      <td>1.746891</td>\n",
              "      <td>4.110834</td>\n",
              "      <td>0.666220</td>\n",
              "    </tr>\n",
              "    <tr>\n",
              "      <th>8</th>\n",
              "      <td>Afghanistan</td>\n",
              "      <td>AFG</td>\n",
              "      <td>1998</td>\n",
              "      <td>0.160931</td>\n",
              "      <td>0.699372</td>\n",
              "      <td>0.087330</td>\n",
              "      <td>4.826971</td>\n",
              "      <td>1.756963</td>\n",
              "      <td>4.114438</td>\n",
              "      <td>0.664676</td>\n",
              "    </tr>\n",
              "    <tr>\n",
              "      <th>9</th>\n",
              "      <td>Afghanistan</td>\n",
              "      <td>AFG</td>\n",
              "      <td>1999</td>\n",
              "      <td>0.161311</td>\n",
              "      <td>0.699674</td>\n",
              "      <td>0.086267</td>\n",
              "      <td>4.826413</td>\n",
              "      <td>1.770791</td>\n",
              "      <td>4.117633</td>\n",
              "      <td>0.663428</td>\n",
              "    </tr>\n",
              "  </tbody>\n",
              "</table>\n",
              "</div>\n",
              "    <div class=\"colab-df-buttons\">\n",
              "\n",
              "  <div class=\"colab-df-container\">\n",
              "    <button class=\"colab-df-convert\" onclick=\"convertToInteractive('df-eb83a139-5bfa-4b5e-8ecb-d3393756903e')\"\n",
              "            title=\"Convert this dataframe to an interactive table.\"\n",
              "            style=\"display:none;\">\n",
              "\n",
              "  <svg xmlns=\"http://www.w3.org/2000/svg\" height=\"24px\" viewBox=\"0 -960 960 960\">\n",
              "    <path d=\"M120-120v-720h720v720H120Zm60-500h600v-160H180v160Zm220 220h160v-160H400v160Zm0 220h160v-160H400v160ZM180-400h160v-160H180v160Zm440 0h160v-160H620v160ZM180-180h160v-160H180v160Zm440 0h160v-160H620v160Z\"/>\n",
              "  </svg>\n",
              "    </button>\n",
              "\n",
              "  <style>\n",
              "    .colab-df-container {\n",
              "      display:flex;\n",
              "      gap: 12px;\n",
              "    }\n",
              "\n",
              "    .colab-df-convert {\n",
              "      background-color: #E8F0FE;\n",
              "      border: none;\n",
              "      border-radius: 50%;\n",
              "      cursor: pointer;\n",
              "      display: none;\n",
              "      fill: #1967D2;\n",
              "      height: 32px;\n",
              "      padding: 0 0 0 0;\n",
              "      width: 32px;\n",
              "    }\n",
              "\n",
              "    .colab-df-convert:hover {\n",
              "      background-color: #E2EBFA;\n",
              "      box-shadow: 0px 1px 2px rgba(60, 64, 67, 0.3), 0px 1px 3px 1px rgba(60, 64, 67, 0.15);\n",
              "      fill: #174EA6;\n",
              "    }\n",
              "\n",
              "    .colab-df-buttons div {\n",
              "      margin-bottom: 4px;\n",
              "    }\n",
              "\n",
              "    [theme=dark] .colab-df-convert {\n",
              "      background-color: #3B4455;\n",
              "      fill: #D2E3FC;\n",
              "    }\n",
              "\n",
              "    [theme=dark] .colab-df-convert:hover {\n",
              "      background-color: #434B5C;\n",
              "      box-shadow: 0px 1px 3px 1px rgba(0, 0, 0, 0.15);\n",
              "      filter: drop-shadow(0px 1px 2px rgba(0, 0, 0, 0.3));\n",
              "      fill: #FFFFFF;\n",
              "    }\n",
              "  </style>\n",
              "\n",
              "    <script>\n",
              "      const buttonEl =\n",
              "        document.querySelector('#df-eb83a139-5bfa-4b5e-8ecb-d3393756903e button.colab-df-convert');\n",
              "      buttonEl.style.display =\n",
              "        google.colab.kernel.accessAllowed ? 'block' : 'none';\n",
              "\n",
              "      async function convertToInteractive(key) {\n",
              "        const element = document.querySelector('#df-eb83a139-5bfa-4b5e-8ecb-d3393756903e');\n",
              "        const dataTable =\n",
              "          await google.colab.kernel.invokeFunction('convertToInteractive',\n",
              "                                                    [key], {});\n",
              "        if (!dataTable) return;\n",
              "\n",
              "        const docLinkHtml = 'Like what you see? Visit the ' +\n",
              "          '<a target=\"_blank\" href=https://colab.research.google.com/notebooks/data_table.ipynb>data table notebook</a>'\n",
              "          + ' to learn more about interactive tables.';\n",
              "        element.innerHTML = '';\n",
              "        dataTable['output_type'] = 'display_data';\n",
              "        await google.colab.output.renderOutput(dataTable, element);\n",
              "        const docLink = document.createElement('div');\n",
              "        docLink.innerHTML = docLinkHtml;\n",
              "        element.appendChild(docLink);\n",
              "      }\n",
              "    </script>\n",
              "  </div>\n",
              "\n",
              "\n",
              "<div id=\"df-6540e264-08aa-4865-8f10-f454795f8634\">\n",
              "  <button class=\"colab-df-quickchart\" onclick=\"quickchart('df-6540e264-08aa-4865-8f10-f454795f8634')\"\n",
              "            title=\"Suggest charts\"\n",
              "            style=\"display:none;\">\n",
              "\n",
              "<svg xmlns=\"http://www.w3.org/2000/svg\" height=\"24px\"viewBox=\"0 0 24 24\"\n",
              "     width=\"24px\">\n",
              "    <g>\n",
              "        <path d=\"M19 3H5c-1.1 0-2 .9-2 2v14c0 1.1.9 2 2 2h14c1.1 0 2-.9 2-2V5c0-1.1-.9-2-2-2zM9 17H7v-7h2v7zm4 0h-2V7h2v10zm4 0h-2v-4h2v4z\"/>\n",
              "    </g>\n",
              "</svg>\n",
              "  </button>\n",
              "\n",
              "<style>\n",
              "  .colab-df-quickchart {\n",
              "      --bg-color: #E8F0FE;\n",
              "      --fill-color: #1967D2;\n",
              "      --hover-bg-color: #E2EBFA;\n",
              "      --hover-fill-color: #174EA6;\n",
              "      --disabled-fill-color: #AAA;\n",
              "      --disabled-bg-color: #DDD;\n",
              "  }\n",
              "\n",
              "  [theme=dark] .colab-df-quickchart {\n",
              "      --bg-color: #3B4455;\n",
              "      --fill-color: #D2E3FC;\n",
              "      --hover-bg-color: #434B5C;\n",
              "      --hover-fill-color: #FFFFFF;\n",
              "      --disabled-bg-color: #3B4455;\n",
              "      --disabled-fill-color: #666;\n",
              "  }\n",
              "\n",
              "  .colab-df-quickchart {\n",
              "    background-color: var(--bg-color);\n",
              "    border: none;\n",
              "    border-radius: 50%;\n",
              "    cursor: pointer;\n",
              "    display: none;\n",
              "    fill: var(--fill-color);\n",
              "    height: 32px;\n",
              "    padding: 0;\n",
              "    width: 32px;\n",
              "  }\n",
              "\n",
              "  .colab-df-quickchart:hover {\n",
              "    background-color: var(--hover-bg-color);\n",
              "    box-shadow: 0 1px 2px rgba(60, 64, 67, 0.3), 0 1px 3px 1px rgba(60, 64, 67, 0.15);\n",
              "    fill: var(--button-hover-fill-color);\n",
              "  }\n",
              "\n",
              "  .colab-df-quickchart-complete:disabled,\n",
              "  .colab-df-quickchart-complete:disabled:hover {\n",
              "    background-color: var(--disabled-bg-color);\n",
              "    fill: var(--disabled-fill-color);\n",
              "    box-shadow: none;\n",
              "  }\n",
              "\n",
              "  .colab-df-spinner {\n",
              "    border: 2px solid var(--fill-color);\n",
              "    border-color: transparent;\n",
              "    border-bottom-color: var(--fill-color);\n",
              "    animation:\n",
              "      spin 1s steps(1) infinite;\n",
              "  }\n",
              "\n",
              "  @keyframes spin {\n",
              "    0% {\n",
              "      border-color: transparent;\n",
              "      border-bottom-color: var(--fill-color);\n",
              "      border-left-color: var(--fill-color);\n",
              "    }\n",
              "    20% {\n",
              "      border-color: transparent;\n",
              "      border-left-color: var(--fill-color);\n",
              "      border-top-color: var(--fill-color);\n",
              "    }\n",
              "    30% {\n",
              "      border-color: transparent;\n",
              "      border-left-color: var(--fill-color);\n",
              "      border-top-color: var(--fill-color);\n",
              "      border-right-color: var(--fill-color);\n",
              "    }\n",
              "    40% {\n",
              "      border-color: transparent;\n",
              "      border-right-color: var(--fill-color);\n",
              "      border-top-color: var(--fill-color);\n",
              "    }\n",
              "    60% {\n",
              "      border-color: transparent;\n",
              "      border-right-color: var(--fill-color);\n",
              "    }\n",
              "    80% {\n",
              "      border-color: transparent;\n",
              "      border-right-color: var(--fill-color);\n",
              "      border-bottom-color: var(--fill-color);\n",
              "    }\n",
              "    90% {\n",
              "      border-color: transparent;\n",
              "      border-bottom-color: var(--fill-color);\n",
              "    }\n",
              "  }\n",
              "</style>\n",
              "\n",
              "  <script>\n",
              "    async function quickchart(key) {\n",
              "      const quickchartButtonEl =\n",
              "        document.querySelector('#' + key + ' button');\n",
              "      quickchartButtonEl.disabled = true;  // To prevent multiple clicks.\n",
              "      quickchartButtonEl.classList.add('colab-df-spinner');\n",
              "      try {\n",
              "        const charts = await google.colab.kernel.invokeFunction(\n",
              "            'suggestCharts', [key], {});\n",
              "      } catch (error) {\n",
              "        console.error('Error during call to suggestCharts:', error);\n",
              "      }\n",
              "      quickchartButtonEl.classList.remove('colab-df-spinner');\n",
              "      quickchartButtonEl.classList.add('colab-df-quickchart-complete');\n",
              "    }\n",
              "    (() => {\n",
              "      let quickchartButtonEl =\n",
              "        document.querySelector('#df-6540e264-08aa-4865-8f10-f454795f8634 button');\n",
              "      quickchartButtonEl.style.display =\n",
              "        google.colab.kernel.accessAllowed ? 'block' : 'none';\n",
              "    })();\n",
              "  </script>\n",
              "</div>\n",
              "    </div>\n",
              "  </div>\n"
            ],
            "application/vnd.google.colaboratory.intrinsic+json": {
              "type": "dataframe",
              "variable_name": "df",
              "summary": "{\n  \"name\": \"df\",\n  \"rows\": 6468,\n  \"fields\": [\n    {\n      \"column\": \"Entity\",\n      \"properties\": {\n        \"dtype\": \"category\",\n        \"num_unique_values\": 231,\n        \"samples\": [\n          \"United States Virgin Islands\",\n          \"England\",\n          \"Armenia\"\n        ],\n        \"semantic_type\": \"\",\n        \"description\": \"\"\n      }\n    },\n    {\n      \"column\": \"Code\",\n      \"properties\": {\n        \"dtype\": \"category\",\n        \"num_unique_values\": 196,\n        \"samples\": [\n          \"PRT\",\n          \"FSM\",\n          \"BLR\"\n        ],\n        \"semantic_type\": \"\",\n        \"description\": \"\"\n      }\n    },\n    {\n      \"column\": \"Year\",\n      \"properties\": {\n        \"dtype\": \"number\",\n        \"std\": 8,\n        \"min\": 1990,\n        \"max\": 2017,\n        \"num_unique_values\": 28,\n        \"samples\": [\n          1999,\n          2015,\n          1998\n        ],\n        \"semantic_type\": \"\",\n        \"description\": \"\"\n      }\n    },\n    {\n      \"column\": \"Schizophrenia (%)\",\n      \"properties\": {\n        \"dtype\": \"number\",\n        \"std\": 0.044252799399097056,\n        \"min\": 0.146901783307,\n        \"max\": 0.375109558864,\n        \"num_unique_values\": 6468,\n        \"samples\": [\n          0.181051903848,\n          0.237055560326,\n          0.200471011933\n        ],\n        \"semantic_type\": \"\",\n        \"description\": \"\"\n      }\n    },\n    {\n      \"column\": \"Bipolar disorder (%)\",\n      \"properties\": {\n        \"dtype\": \"number\",\n        \"std\": 0.17158860649342855,\n        \"min\": 0.314534530788,\n        \"max\": 1.20659682497,\n        \"num_unique_values\": 6468,\n        \"samples\": [\n          0.637705898862,\n          0.56320769749,\n          0.805063386368\n        ],\n        \"semantic_type\": \"\",\n        \"description\": \"\"\n      }\n    },\n    {\n      \"column\": \"Eating disorders (%)\",\n      \"properties\": {\n        \"dtype\": \"number\",\n        \"std\": 0.1581412209537988,\n        \"min\": 0.0739075326845,\n        \"max\": 0.943990606921999,\n        \"num_unique_values\": 6468,\n        \"samples\": [\n          0.221466083692,\n          0.165670624005,\n          0.251991434318\n        ],\n        \"semantic_type\": \"\",\n        \"description\": \"\"\n      }\n    },\n    {\n      \"column\": \"Anxiety disorders (%)\",\n      \"properties\": {\n        \"dtype\": \"number\",\n        \"std\": 1.167526253590838,\n        \"min\": 2.023392812,\n        \"max\": 8.96733022661,\n        \"num_unique_values\": 6468,\n        \"samples\": [\n          3.28861172443,\n          3.31602653618,\n          4.68048828194\n        ],\n        \"semantic_type\": \"\",\n        \"description\": \"\"\n      }\n    },\n    {\n      \"column\": \"Drug use disorders (%)\",\n      \"properties\": {\n        \"dtype\": \"number\",\n        \"std\": 0.46067884505909573,\n        \"min\": 0.383650342085,\n        \"max\": 3.45247568009,\n        \"num_unique_values\": 6468,\n        \"samples\": [\n          0.571512850357999,\n          0.688959255953,\n          1.38054548323\n        ],\n        \"semantic_type\": \"\",\n        \"description\": \"\"\n      }\n    },\n    {\n      \"column\": \"Depression (%)\",\n      \"properties\": {\n        \"dtype\": \"number\",\n        \"std\": 0.6558588693342733,\n        \"min\": 2.13990307021,\n        \"max\": 6.60275355192,\n        \"num_unique_values\": 6468,\n        \"samples\": [\n          4.05984834016999,\n          3.57657333389,\n          3.43106121412999\n        ],\n        \"semantic_type\": \"\",\n        \"description\": \"\"\n      }\n    },\n    {\n      \"column\": \"Alcohol use disorders (%)\",\n      \"properties\": {\n        \"dtype\": \"number\",\n        \"std\": 0.8602834108686485,\n        \"min\": 0.446939549393,\n        \"max\": 5.47466778527999,\n        \"num_unique_values\": 6468,\n        \"samples\": [\n          1.4864809773,\n          1.25526572811,\n          0.646011866366\n        ],\n        \"semantic_type\": \"\",\n        \"description\": \"\"\n      }\n    }\n  ]\n}"
            }
          },
          "metadata": {},
          "execution_count": 5
        }
      ]
    },
    {
      "cell_type": "code",
      "source": [
        "rows, columns = df.shape\n",
        "print(\"Размер таблицы:\")\n",
        "print(\"Строк:\", rows)\n",
        "print(\"Столбцов:\", columns)"
      ],
      "metadata": {
        "colab": {
          "base_uri": "https://localhost:8080/"
        },
        "id": "_HtoPmkcIPGQ",
        "outputId": "a1a3181c-632d-4517-b874-05e4bc14389c"
      },
      "execution_count": 6,
      "outputs": [
        {
          "output_type": "stream",
          "name": "stdout",
          "text": [
            "Размер таблицы:\n",
            "Строк: 6468\n",
            "Столбцов: 10\n"
          ]
        }
      ]
    },
    {
      "cell_type": "markdown",
      "source": [
        "Изменим названия столбцов таблицы"
      ],
      "metadata": {
        "id": "E4oMR0u6v8Mm"
      }
    },
    {
      "cell_type": "code",
      "source": [
        "df.columns = ['Country', 'Code', 'Year', 'Schizophrenia', 'Bipolar disorder', 'Eating disorders',\n",
        "              'Anxiety disorders', 'Drug use disorders', 'Depression', 'Alcohol use disorders']"
      ],
      "metadata": {
        "id": "XvkzIDW4v6O4"
      },
      "execution_count": 7,
      "outputs": []
    },
    {
      "cell_type": "markdown",
      "source": [
        "Список названий столбцов таблицы:"
      ],
      "metadata": {
        "id": "WKHOtPOFvzQs"
      }
    },
    {
      "cell_type": "code",
      "source": [
        "for i in range(len(df.columns)):\n",
        "    print(i + 1, df.columns[i])\n",
        "print(\"\\n\")\n",
        "print(df.dtypes)"
      ],
      "metadata": {
        "colab": {
          "base_uri": "https://localhost:8080/"
        },
        "id": "0zSPS-0hJAyx",
        "outputId": "9e946b9d-42d4-4829-83c0-734582cdad1c"
      },
      "execution_count": 8,
      "outputs": [
        {
          "output_type": "stream",
          "name": "stdout",
          "text": [
            "1 Country\n",
            "2 Code\n",
            "3 Year\n",
            "4 Schizophrenia\n",
            "5 Bipolar disorder\n",
            "6 Eating disorders\n",
            "7 Anxiety disorders\n",
            "8 Drug use disorders\n",
            "9 Depression\n",
            "10 Alcohol use disorders\n",
            "\n",
            "\n",
            "Country                   object\n",
            "Code                      object\n",
            "Year                       int64\n",
            "Schizophrenia            float64\n",
            "Bipolar disorder         float64\n",
            "Eating disorders         float64\n",
            "Anxiety disorders        float64\n",
            "Drug use disorders       float64\n",
            "Depression               float64\n",
            "Alcohol use disorders    float64\n",
            "dtype: object\n"
          ]
        }
      ]
    },
    {
      "cell_type": "markdown",
      "source": [
        "1. Country - Страна\n",
        "2. Code - Код страны\n",
        "3. Year - Год\n",
        "4. Schizophrenia - Шизофрения\n",
        "5. Bipolar disorder - Биполярное расстройство\n",
        "6. Eating disorders - Расстрйства пищевого поведения\n",
        "7. Anxiety disorders - Тревожные расстройства\n",
        "8. Drug use disorders - Расстройства, связанные с употреблением наркотиков\n",
        "9. Depression - Депрессия\n",
        "10. Alcohol use disorders - Расстройства, связанные с употреблением алкоголя"
      ],
      "metadata": {
        "id": "oaxUnElhJDPR"
      }
    },
    {
      "cell_type": "markdown",
      "source": [
        "Создание матрицы пропущенных значений"
      ],
      "metadata": {
        "id": "vgoCB53yRBdA"
      }
    },
    {
      "cell_type": "code",
      "source": [
        "import missingno as msno\n",
        "\n",
        "msno.matrix(df)"
      ],
      "metadata": {
        "colab": {
          "base_uri": "https://localhost:8080/",
          "height": 551
        },
        "collapsed": true,
        "id": "YTbZoxEzQydx",
        "outputId": "a0c396b2-4ecb-4998-822c-596c4fab1313"
      },
      "execution_count": 9,
      "outputs": [
        {
          "output_type": "execute_result",
          "data": {
            "text/plain": [
              "<Axes: >"
            ]
          },
          "metadata": {},
          "execution_count": 9
        },
        {
          "output_type": "display_data",
          "data": {
            "text/plain": [
              "<Figure size 2500x1000 with 2 Axes>"
            ],
            "image/png": "[encoded data removed]"
          },
          "metadata": {}
        }
      ]
    },
    {
      "cell_type": "markdown",
      "source": [
        "Из матрицы пропущенных значений следует, что все пропуски в наборе данных содержатся только в столбце с кодом страны, и если взглянуть на эти пропуски, то выходит, что пропуски представляют из себя страны, у которых нет своего кода, так что на данные эти пропуски влиять не будут"
      ],
      "metadata": {
        "id": "Ae7lUIa0KKuS"
      }
    },
    {
      "cell_type": "markdown",
      "source": [
        "## Общий анализ"
      ],
      "metadata": {
        "id": "bDaMGqztWTXP"
      }
    },
    {
      "cell_type": "code",
      "source": [
        "countries = df['Country']\n",
        "countries = countries.unique()\n",
        "for i in countries:\n",
        "  print(i)\n"
      ],
      "metadata": {
        "colab": {
          "base_uri": "https://localhost:8080/"
        },
        "collapsed": true,
        "id": "iDPi3DrQBN3A",
        "outputId": "5a751969-12a5-45f8-949a-8f341d576f50"
      },
      "execution_count": 10,
      "outputs": [
        {
          "output_type": "stream",
          "name": "stdout",
          "text": [
            "Afghanistan\n",
            "Albania\n",
            "Algeria\n",
            "American Samoa\n",
            "Andean Latin America\n",
            "Andorra\n",
            "Angola\n",
            "Antigua and Barbuda\n",
            "Argentina\n",
            "Armenia\n",
            "Australasia\n",
            "Australia\n",
            "Austria\n",
            "Azerbaijan\n",
            "Bahamas\n",
            "Bahrain\n",
            "Bangladesh\n",
            "Barbados\n",
            "Belarus\n",
            "Belgium\n",
            "Belize\n",
            "Benin\n",
            "Bermuda\n",
            "Bhutan\n",
            "Bolivia\n",
            "Bosnia and Herzegovina\n",
            "Botswana\n",
            "Brazil\n",
            "Brunei\n",
            "Bulgaria\n",
            "Burkina Faso\n",
            "Burundi\n",
            "Cambodia\n",
            "Cameroon\n",
            "Canada\n",
            "Cape Verde\n",
            "Caribbean\n",
            "Central African Republic\n",
            "Central Asia\n",
            "Central Europe\n",
            "Central Europe, Eastern Europe, and Central Asia\n",
            "Central Latin America\n",
            "Central Sub-Saharan Africa\n",
            "Chad\n",
            "Chile\n",
            "China\n",
            "Colombia\n",
            "Comoros\n",
            "Congo\n",
            "Costa Rica\n",
            "Cote d'Ivoire\n",
            "Croatia\n",
            "Cuba\n",
            "Cyprus\n",
            "Czech Republic\n",
            "Democratic Republic of Congo\n",
            "Denmark\n",
            "Djibouti\n",
            "Dominica\n",
            "Dominican Republic\n",
            "East Asia\n",
            "Eastern Europe\n",
            "Eastern Sub-Saharan Africa\n",
            "Ecuador\n",
            "Egypt\n",
            "El Salvador\n",
            "England\n",
            "Equatorial Guinea\n",
            "Eritrea\n",
            "Estonia\n",
            "Ethiopia\n",
            "Fiji\n",
            "Finland\n",
            "France\n",
            "Gabon\n",
            "Gambia\n",
            "Georgia\n",
            "Germany\n",
            "Ghana\n",
            "Greece\n",
            "Greenland\n",
            "Grenada\n",
            "Guam\n",
            "Guatemala\n",
            "Guinea\n",
            "Guinea-Bissau\n",
            "Guyana\n",
            "Haiti\n",
            "High SDI\n",
            "High-income\n",
            "High-income Asia Pacific\n",
            "High-middle SDI\n",
            "Honduras\n",
            "Hungary\n",
            "Iceland\n",
            "India\n",
            "Indonesia\n",
            "Iran\n",
            "Iraq\n",
            "Ireland\n",
            "Israel\n",
            "Italy\n",
            "Jamaica\n",
            "Japan\n",
            "Jordan\n",
            "Kazakhstan\n",
            "Kenya\n",
            "Kiribati\n",
            "Kuwait\n",
            "Kyrgyzstan\n",
            "Laos\n",
            "Latin America and Caribbean\n",
            "Latvia\n",
            "Lebanon\n",
            "Lesotho\n",
            "Liberia\n",
            "Libya\n",
            "Lithuania\n",
            "Low SDI\n",
            "Low-middle SDI\n",
            "Luxembourg\n",
            "Macedonia\n",
            "Madagascar\n",
            "Malawi\n",
            "Malaysia\n",
            "Maldives\n",
            "Mali\n",
            "Malta\n",
            "Marshall Islands\n",
            "Mauritania\n",
            "Mauritius\n",
            "Mexico\n",
            "Micronesia (country)\n",
            "Middle SDI\n",
            "Moldova\n",
            "Mongolia\n",
            "Montenegro\n",
            "Morocco\n",
            "Mozambique\n",
            "Myanmar\n",
            "Namibia\n",
            "Nepal\n",
            "Netherlands\n",
            "New Zealand\n",
            "Nicaragua\n",
            "Niger\n",
            "Nigeria\n",
            "North Africa and Middle East\n",
            "North America\n",
            "North Korea\n",
            "Northern Ireland\n",
            "Northern Mariana Islands\n",
            "Norway\n",
            "Oceania\n",
            "Oman\n",
            "Pakistan\n",
            "Palestine\n",
            "Panama\n",
            "Papua New Guinea\n",
            "Paraguay\n",
            "Peru\n",
            "Philippines\n",
            "Poland\n",
            "Portugal\n",
            "Puerto Rico\n",
            "Qatar\n",
            "Romania\n",
            "Russia\n",
            "Rwanda\n",
            "Saint Lucia\n",
            "Saint Vincent and the Grenadines\n",
            "Samoa\n",
            "Sao Tome and Principe\n",
            "Saudi Arabia\n",
            "Scotland\n",
            "Senegal\n",
            "Serbia\n",
            "Seychelles\n",
            "Sierra Leone\n",
            "Singapore\n",
            "Slovakia\n",
            "Slovenia\n",
            "Solomon Islands\n",
            "Somalia\n",
            "South Africa\n",
            "South Asia\n",
            "South Korea\n",
            "South Sudan\n",
            "Southeast Asia\n",
            "Southeast Asia, East Asia, and Oceania\n",
            "Southern Latin America\n",
            "Southern Sub-Saharan Africa\n",
            "Spain\n",
            "Sri Lanka\n",
            "Sub-Saharan Africa\n",
            "Sudan\n",
            "Suriname\n",
            "Swaziland\n",
            "Sweden\n",
            "Switzerland\n",
            "Syria\n",
            "Taiwan\n",
            "Tajikistan\n",
            "Tanzania\n",
            "Thailand\n",
            "Timor\n",
            "Togo\n",
            "Tonga\n",
            "Trinidad and Tobago\n",
            "Tropical Latin America\n",
            "Tunisia\n",
            "Turkey\n",
            "Turkmenistan\n",
            "Uganda\n",
            "Ukraine\n",
            "United Arab Emirates\n",
            "United Kingdom\n",
            "United States\n",
            "United States Virgin Islands\n",
            "Uruguay\n",
            "Uzbekistan\n",
            "Vanuatu\n",
            "Venezuela\n",
            "Vietnam\n",
            "Wales\n",
            "Western Europe\n",
            "Western Sub-Saharan Africa\n",
            "World\n",
            "Yemen\n",
            "Zambia\n",
            "Zimbabwe\n"
          ]
        }
      ]
    },
    {
      "cell_type": "markdown",
      "source": [
        "Количество стран:"
      ],
      "metadata": {
        "id": "TaodAkkaDKCJ"
      }
    },
    {
      "cell_type": "code",
      "source": [
        "print(len(countries))"
      ],
      "metadata": {
        "colab": {
          "base_uri": "https://localhost:8080/"
        },
        "id": "qo4pe5ctDF0I",
        "outputId": "de6c0404-3641-450d-d23b-c96140fcf4d1"
      },
      "execution_count": 11,
      "outputs": [
        {
          "output_type": "stream",
          "name": "stdout",
          "text": [
            "231\n"
          ]
        }
      ]
    },
    {
      "cell_type": "markdown",
      "source": [
        "Минимальный и максимальный года"
      ],
      "metadata": {
        "id": "Z9I3APQXXB1e"
      }
    },
    {
      "cell_type": "code",
      "source": [
        "print(min(df['Year']), max(df['Year']))"
      ],
      "metadata": {
        "colab": {
          "base_uri": "https://localhost:8080/"
        },
        "id": "aHtQUmb-W56P",
        "outputId": "ff8170f3-7c6b-4336-b9fd-bbfd3ff7fd3d"
      },
      "execution_count": 12,
      "outputs": [
        {
          "output_type": "stream",
          "name": "stdout",
          "text": [
            "1990 2017\n"
          ]
        }
      ]
    },
    {
      "cell_type": "markdown",
      "source": [
        "## Графики"
      ],
      "metadata": {
        "id": "k32tyn-vXPkl"
      }
    },
    {
      "cell_type": "markdown",
      "source": [
        "Найдем топ-10 стран, в которых средняя депрессия минимальна, и\n",
        "топ-10 стран, в которых максимальна"
      ],
      "metadata": {
        "id": "dz9m5Y-2ekeD"
      }
    },
    {
      "cell_type": "code",
      "source": [
        "d = dict()\n",
        "for i in countries:\n",
        "    a = df[df['Country'] == i]\n",
        "    d[i] = a['Depression'].mean()\n",
        "# Страны, отсортированные по среднему показателю депрессии\n",
        "sorted_depression = sorted(d.items(), key=lambda x: x[1])\n",
        "# Топ 10 стран с минимальным показателем средней депрессии\n",
        "min_depression = sorted_depression[:10]\n",
        "for i in range(len(min_depression)):\n",
        "    min_depression[i] = min_depression[i][0]\n",
        "# Топ 10 стран с максимальным показателем средней депрессии\n",
        "max_depression = sorted_depression[-10:]\n",
        "for i in range(len(max_depression)):\n",
        "    max_depression[i] = max_depression[i][0]\n",
        "print(\"Топ-10 стран с мин. депрессией:\", *min_depression)\n",
        "print(\"Топ-10 стран с макс. депрессией:\", *max_depression)"
      ],
      "metadata": {
        "colab": {
          "base_uri": "https://localhost:8080/"
        },
        "id": "vGW80iUPM69M",
        "outputId": "60317483-6a5f-4746-9b54-057def3e7680"
      },
      "execution_count": 52,
      "outputs": [
        {
          "output_type": "stream",
          "name": "stdout",
          "text": [
            "Топ-10 стран с мин. депрессией: Albania Myanmar Poland Colombia Peru Romania Macedonia Slovakia Bosnia and Herzegovina Central Europe\n",
            "Топ-10 стран с макс. депрессией: Portugal United States Australia Palestine Iran Finland Uganda Lesotho Morocco Greenland\n"
          ]
        }
      ]
    },
    {
      "cell_type": "markdown",
      "source": [
        "Сводная таблица для стран с миним. депрессией"
      ],
      "metadata": {
        "id": "EqT8XRFUkNM0"
      }
    },
    {
      "cell_type": "code",
      "source": [
        "a = df[df['Country'].isin(min_depression)]\n",
        "table_min = a.pivot(index=\"Year\", columns=\"Country\", values=\"Depression\")\n",
        "table_min.head()"
      ],
      "metadata": {
        "colab": {
          "base_uri": "https://localhost:8080/",
          "height": 237
        },
        "id": "BJoGr3grjntc",
        "outputId": "519ff149-d824-4314-8480-62c76d9b44f2"
      },
      "execution_count": 14,
      "outputs": [
        {
          "output_type": "execute_result",
          "data": {
            "text/plain": [
              "Country   Albania  Bosnia and Herzegovina  Central Europe  Colombia  \\\n",
              "Year                                                                  \n",
              "1990     2.139903                2.668364        2.577004  2.268150   \n",
              "1991     2.141201                2.672518        2.585486  2.280578   \n",
              "1992     2.143395                2.671643        2.591338  2.293496   \n",
              "1993     2.145263                2.671418        2.595275  2.304626   \n",
              "1994     2.150070                2.669313        2.597484  2.316248   \n",
              "\n",
              "Country  Macedonia   Myanmar      Peru    Poland   Romania  Slovakia  \n",
              "Year                                                                  \n",
              "1990      2.420244  2.244310  2.364704  2.236951  2.367998  2.535570  \n",
              "1991      2.422464  2.246085  2.370735  2.252338  2.369771  2.541668  \n",
              "1992      2.424369  2.246402  2.375850  2.267182  2.370086  2.547234  \n",
              "1993      2.425562  2.248158  2.378036  2.280377  2.371618  2.549044  \n",
              "1994      2.426529  2.247234  2.379453  2.290941  2.372830  2.550926  "
            ],
            "text/html": [
              "\n",
              "  <div id=\"df-021b4454-7e51-4ba4-94ca-0991402fe4e0\" class=\"colab-df-container\">\n",
              "    <div>\n",
              "<style scoped>\n",
              "    .dataframe tbody tr th:only-of-type {\n",
              "        vertical-align: middle;\n",
              "    }\n",
              "\n",
              "    .dataframe tbody tr th {\n",
              "        vertical-align: top;\n",
              "    }\n",
              "\n",
              "    .dataframe thead th {\n",
              "        text-align: right;\n",
              "    }\n",
              "</style>\n",
              "<table border=\"1\" class=\"dataframe\">\n",
              "  <thead>\n",
              "    <tr style=\"text-align: right;\">\n",
              "      <th>Country</th>\n",
              "      <th>Albania</th>\n",
              "      <th>Bosnia and Herzegovina</th>\n",
              "      <th>Central Europe</th>\n",
              "      <th>Colombia</th>\n",
              "      <th>Macedonia</th>\n",
              "      <th>Myanmar</th>\n",
              "      <th>Peru</th>\n",
              "      <th>Poland</th>\n",
              "      <th>Romania</th>\n",
              "      <th>Slovakia</th>\n",
              "    </tr>\n",
              "    <tr>\n",
              "      <th>Year</th>\n",
              "      <th></th>\n",
              "      <th></th>\n",
              "      <th></th>\n",
              "      <th></th>\n",
              "      <th></th>\n",
              "      <th></th>\n",
              "      <th></th>\n",
              "      <th></th>\n",
              "      <th></th>\n",
              "      <th></th>\n",
              "    </tr>\n",
              "  </thead>\n",
              "  <tbody>\n",
              "    <tr>\n",
              "      <th>1990</th>\n",
              "      <td>2.139903</td>\n",
              "      <td>2.668364</td>\n",
              "      <td>2.577004</td>\n",
              "      <td>2.268150</td>\n",
              "      <td>2.420244</td>\n",
              "      <td>2.244310</td>\n",
              "      <td>2.364704</td>\n",
              "      <td>2.236951</td>\n",
              "      <td>2.367998</td>\n",
              "      <td>2.535570</td>\n",
              "    </tr>\n",
              "    <tr>\n",
              "      <th>1991</th>\n",
              "      <td>2.141201</td>\n",
              "      <td>2.672518</td>\n",
              "      <td>2.585486</td>\n",
              "      <td>2.280578</td>\n",
              "      <td>2.422464</td>\n",
              "      <td>2.246085</td>\n",
              "      <td>2.370735</td>\n",
              "      <td>2.252338</td>\n",
              "      <td>2.369771</td>\n",
              "      <td>2.541668</td>\n",
              "    </tr>\n",
              "    <tr>\n",
              "      <th>1992</th>\n",
              "      <td>2.143395</td>\n",
              "      <td>2.671643</td>\n",
              "      <td>2.591338</td>\n",
              "      <td>2.293496</td>\n",
              "      <td>2.424369</td>\n",
              "      <td>2.246402</td>\n",
              "      <td>2.375850</td>\n",
              "      <td>2.267182</td>\n",
              "      <td>2.370086</td>\n",
              "      <td>2.547234</td>\n",
              "    </tr>\n",
              "    <tr>\n",
              "      <th>1993</th>\n",
              "      <td>2.145263</td>\n",
              "      <td>2.671418</td>\n",
              "      <td>2.595275</td>\n",
              "      <td>2.304626</td>\n",
              "      <td>2.425562</td>\n",
              "      <td>2.248158</td>\n",
              "      <td>2.378036</td>\n",
              "      <td>2.280377</td>\n",
              "      <td>2.371618</td>\n",
              "      <td>2.549044</td>\n",
              "    </tr>\n",
              "    <tr>\n",
              "      <th>1994</th>\n",
              "      <td>2.150070</td>\n",
              "      <td>2.669313</td>\n",
              "      <td>2.597484</td>\n",
              "      <td>2.316248</td>\n",
              "      <td>2.426529</td>\n",
              "      <td>2.247234</td>\n",
              "      <td>2.379453</td>\n",
              "      <td>2.290941</td>\n",
              "      <td>2.372830</td>\n",
              "      <td>2.550926</td>\n",
              "    </tr>\n",
              "  </tbody>\n",
              "</table>\n",
              "</div>\n",
              "    <div class=\"colab-df-buttons\">\n",
              "\n",
              "  <div class=\"colab-df-container\">\n",
              "    <button class=\"colab-df-convert\" onclick=\"convertToInteractive('df-021b4454-7e51-4ba4-94ca-0991402fe4e0')\"\n",
              "            title=\"Convert this dataframe to an interactive table.\"\n",
              "            style=\"display:none;\">\n",
              "\n",
              "  <svg xmlns=\"http://www.w3.org/2000/svg\" height=\"24px\" viewBox=\"0 -960 960 960\">\n",
              "    <path d=\"M120-120v-720h720v720H120Zm60-500h600v-160H180v160Zm220 220h160v-160H400v160Zm0 220h160v-160H400v160ZM180-400h160v-160H180v160Zm440 0h160v-160H620v160ZM180-180h160v-160H180v160Zm440 0h160v-160H620v160Z\"/>\n",
              "  </svg>\n",
              "    </button>\n",
              "\n",
              "  <style>\n",
              "    .colab-df-container {\n",
              "      display:flex;\n",
              "      gap: 12px;\n",
              "    }\n",
              "\n",
              "    .colab-df-convert {\n",
              "      background-color: #E8F0FE;\n",
              "      border: none;\n",
              "      border-radius: 50%;\n",
              "      cursor: pointer;\n",
              "      display: none;\n",
              "      fill: #1967D2;\n",
              "      height: 32px;\n",
              "      padding: 0 0 0 0;\n",
              "      width: 32px;\n",
              "    }\n",
              "\n",
              "    .colab-df-convert:hover {\n",
              "      background-color: #E2EBFA;\n",
              "      box-shadow: 0px 1px 2px rgba(60, 64, 67, 0.3), 0px 1px 3px 1px rgba(60, 64, 67, 0.15);\n",
              "      fill: #174EA6;\n",
              "    }\n",
              "\n",
              "    .colab-df-buttons div {\n",
              "      margin-bottom: 4px;\n",
              "    }\n",
              "\n",
              "    [theme=dark] .colab-df-convert {\n",
              "      background-color: #3B4455;\n",
              "      fill: #D2E3FC;\n",
              "    }\n",
              "\n",
              "    [theme=dark] .colab-df-convert:hover {\n",
              "      background-color: #434B5C;\n",
              "      box-shadow: 0px 1px 3px 1px rgba(0, 0, 0, 0.15);\n",
              "      filter: drop-shadow(0px 1px 2px rgba(0, 0, 0, 0.3));\n",
              "      fill: #FFFFFF;\n",
              "    }\n",
              "  </style>\n",
              "\n",
              "    <script>\n",
              "      const buttonEl =\n",
              "        document.querySelector('#df-021b4454-7e51-4ba4-94ca-0991402fe4e0 button.colab-df-convert');\n",
              "      buttonEl.style.display =\n",
              "        google.colab.kernel.accessAllowed ? 'block' : 'none';\n",
              "\n",
              "      async function convertToInteractive(key) {\n",
              "        const element = document.querySelector('#df-021b4454-7e51-4ba4-94ca-0991402fe4e0');\n",
              "        const dataTable =\n",
              "          await google.colab.kernel.invokeFunction('convertToInteractive',\n",
              "                                                    [key], {});\n",
              "        if (!dataTable) return;\n",
              "\n",
              "        const docLinkHtml = 'Like what you see? Visit the ' +\n",
              "          '<a target=\"_blank\" href=https://colab.research.google.com/notebooks/data_table.ipynb>data table notebook</a>'\n",
              "          + ' to learn more about interactive tables.';\n",
              "        element.innerHTML = '';\n",
              "        dataTable['output_type'] = 'display_data';\n",
              "        await google.colab.output.renderOutput(dataTable, element);\n",
              "        const docLink = document.createElement('div');\n",
              "        docLink.innerHTML = docLinkHtml;\n",
              "        element.appendChild(docLink);\n",
              "      }\n",
              "    </script>\n",
              "  </div>\n",
              "\n",
              "\n",
              "<div id=\"df-b32d13b2-d652-4a78-b5ed-b53b2f486b60\">\n",
              "  <button class=\"colab-df-quickchart\" onclick=\"quickchart('df-b32d13b2-d652-4a78-b5ed-b53b2f486b60')\"\n",
              "            title=\"Suggest charts\"\n",
              "            style=\"display:none;\">\n",
              "\n",
              "<svg xmlns=\"http://www.w3.org/2000/svg\" height=\"24px\"viewBox=\"0 0 24 24\"\n",
              "     width=\"24px\">\n",
              "    <g>\n",
              "        <path d=\"M19 3H5c-1.1 0-2 .9-2 2v14c0 1.1.9 2 2 2h14c1.1 0 2-.9 2-2V5c0-1.1-.9-2-2-2zM9 17H7v-7h2v7zm4 0h-2V7h2v10zm4 0h-2v-4h2v4z\"/>\n",
              "    </g>\n",
              "</svg>\n",
              "  </button>\n",
              "\n",
              "<style>\n",
              "  .colab-df-quickchart {\n",
              "      --bg-color: #E8F0FE;\n",
              "      --fill-color: #1967D2;\n",
              "      --hover-bg-color: #E2EBFA;\n",
              "      --hover-fill-color: #174EA6;\n",
              "      --disabled-fill-color: #AAA;\n",
              "      --disabled-bg-color: #DDD;\n",
              "  }\n",
              "\n",
              "  [theme=dark] .colab-df-quickchart {\n",
              "      --bg-color: #3B4455;\n",
              "      --fill-color: #D2E3FC;\n",
              "      --hover-bg-color: #434B5C;\n",
              "      --hover-fill-color: #FFFFFF;\n",
              "      --disabled-bg-color: #3B4455;\n",
              "      --disabled-fill-color: #666;\n",
              "  }\n",
              "\n",
              "  .colab-df-quickchart {\n",
              "    background-color: var(--bg-color);\n",
              "    border: none;\n",
              "    border-radius: 50%;\n",
              "    cursor: pointer;\n",
              "    display: none;\n",
              "    fill: var(--fill-color);\n",
              "    height: 32px;\n",
              "    padding: 0;\n",
              "    width: 32px;\n",
              "  }\n",
              "\n",
              "  .colab-df-quickchart:hover {\n",
              "    background-color: var(--hover-bg-color);\n",
              "    box-shadow: 0 1px 2px rgba(60, 64, 67, 0.3), 0 1px 3px 1px rgba(60, 64, 67, 0.15);\n",
              "    fill: var(--button-hover-fill-color);\n",
              "  }\n",
              "\n",
              "  .colab-df-quickchart-complete:disabled,\n",
              "  .colab-df-quickchart-complete:disabled:hover {\n",
              "    background-color: var(--disabled-bg-color);\n",
              "    fill: var(--disabled-fill-color);\n",
              "    box-shadow: none;\n",
              "  }\n",
              "\n",
              "  .colab-df-spinner {\n",
              "    border: 2px solid var(--fill-color);\n",
              "    border-color: transparent;\n",
              "    border-bottom-color: var(--fill-color);\n",
              "    animation:\n",
              "      spin 1s steps(1) infinite;\n",
              "  }\n",
              "\n",
              "  @keyframes spin {\n",
              "    0% {\n",
              "      border-color: transparent;\n",
              "      border-bottom-color: var(--fill-color);\n",
              "      border-left-color: var(--fill-color);\n",
              "    }\n",
              "    20% {\n",
              "      border-color: transparent;\n",
              "      border-left-color: var(--fill-color);\n",
              "      border-top-color: var(--fill-color);\n",
              "    }\n",
              "    30% {\n",
              "      border-color: transparent;\n",
              "      border-left-color: var(--fill-color);\n",
              "      border-top-color: var(--fill-color);\n",
              "      border-right-color: var(--fill-color);\n",
              "    }\n",
              "    40% {\n",
              "      border-color: transparent;\n",
              "      border-right-color: var(--fill-color);\n",
              "      border-top-color: var(--fill-color);\n",
              "    }\n",
              "    60% {\n",
              "      border-color: transparent;\n",
              "      border-right-color: var(--fill-color);\n",
              "    }\n",
              "    80% {\n",
              "      border-color: transparent;\n",
              "      border-right-color: var(--fill-color);\n",
              "      border-bottom-color: var(--fill-color);\n",
              "    }\n",
              "    90% {\n",
              "      border-color: transparent;\n",
              "      border-bottom-color: var(--fill-color);\n",
              "    }\n",
              "  }\n",
              "</style>\n",
              "\n",
              "  <script>\n",
              "    async function quickchart(key) {\n",
              "      const quickchartButtonEl =\n",
              "        document.querySelector('#' + key + ' button');\n",
              "      quickchartButtonEl.disabled = true;  // To prevent multiple clicks.\n",
              "      quickchartButtonEl.classList.add('colab-df-spinner');\n",
              "      try {\n",
              "        const charts = await google.colab.kernel.invokeFunction(\n",
              "            'suggestCharts', [key], {});\n",
              "      } catch (error) {\n",
              "        console.error('Error during call to suggestCharts:', error);\n",
              "      }\n",
              "      quickchartButtonEl.classList.remove('colab-df-spinner');\n",
              "      quickchartButtonEl.classList.add('colab-df-quickchart-complete');\n",
              "    }\n",
              "    (() => {\n",
              "      let quickchartButtonEl =\n",
              "        document.querySelector('#df-b32d13b2-d652-4a78-b5ed-b53b2f486b60 button');\n",
              "      quickchartButtonEl.style.display =\n",
              "        google.colab.kernel.accessAllowed ? 'block' : 'none';\n",
              "    })();\n",
              "  </script>\n",
              "</div>\n",
              "    </div>\n",
              "  </div>\n"
            ],
            "application/vnd.google.colaboratory.intrinsic+json": {
              "type": "dataframe",
              "variable_name": "table_min",
              "summary": "{\n  \"name\": \"table_min\",\n  \"rows\": 28,\n  \"fields\": [\n    {\n      \"column\": \"Year\",\n      \"properties\": {\n        \"dtype\": \"number\",\n        \"std\": 8,\n        \"min\": 1990,\n        \"max\": 2017,\n        \"num_unique_values\": 28,\n        \"samples\": [\n          1999,\n          2015,\n          1998\n        ],\n        \"semantic_type\": \"\",\n        \"description\": \"\"\n      }\n    },\n    {\n      \"column\": \"Albania\",\n      \"properties\": {\n        \"dtype\": \"number\",\n        \"std\": 0.027717822764172447,\n        \"min\": 2.13990307021,\n        \"max\": 2.22340705325,\n        \"num_unique_values\": 28,\n        \"samples\": [\n          2.18880223435999,\n          2.2044542039,\n          2.17952963529999\n        ],\n        \"semantic_type\": \"\",\n        \"description\": \"\"\n      }\n    },\n    {\n      \"column\": \"Bosnia and Herzegovina\",\n      \"properties\": {\n        \"dtype\": \"number\",\n        \"std\": 0.1401984737011686,\n        \"min\": 2.31906634146,\n        \"max\": 2.67251784988,\n        \"num_unique_values\": 28,\n        \"samples\": [\n          2.60632894678,\n          2.32162166711,\n          2.62760549259\n        ],\n        \"semantic_type\": \"\",\n        \"description\": \"\"\n      }\n    },\n    {\n      \"column\": \"Central Europe\",\n      \"properties\": {\n        \"dtype\": \"number\",\n        \"std\": 0.06089266840768769,\n        \"min\": 2.43871286018,\n        \"max\": 2.59748431771999,\n        \"num_unique_values\": 28,\n        \"samples\": [\n          2.55832494108,\n          2.44159141015,\n          2.57167276461\n        ],\n        \"semantic_type\": \"\",\n        \"description\": \"\"\n      }\n    },\n    {\n      \"column\": \"Colombia\",\n      \"properties\": {\n        \"dtype\": \"number\",\n        \"std\": 0.08297800724916587,\n        \"min\": 2.19409093655,\n        \"max\": 2.42933756495,\n        \"num_unique_values\": 28,\n        \"samples\": [\n          2.38406736473,\n          2.19463164255,\n          2.36922688797\n        ],\n        \"semantic_type\": \"\",\n        \"description\": \"\"\n      }\n    },\n    {\n      \"column\": \"Macedonia\",\n      \"properties\": {\n        \"dtype\": \"number\",\n        \"std\": 0.03694841794858708,\n        \"min\": 2.33198210953,\n        \"max\": 2.42652857292,\n        \"num_unique_values\": 28,\n        \"samples\": [\n          2.40496234901,\n          2.33212395293,\n          2.41113064645\n        ],\n        \"semantic_type\": \"\",\n        \"description\": \"\"\n      }\n    },\n    {\n      \"column\": \"Myanmar\",\n      \"properties\": {\n        \"dtype\": \"number\",\n        \"std\": 0.016867256787704565,\n        \"min\": 2.23326918119,\n        \"max\": 2.30098157089,\n        \"num_unique_values\": 28,\n        \"samples\": [\n          2.23405914370999,\n          2.28271179911,\n          2.23811291335999\n        ],\n        \"semantic_type\": \"\",\n        \"description\": \"\"\n      }\n    },\n    {\n      \"column\": \"Peru\",\n      \"properties\": {\n        \"dtype\": \"number\",\n        \"std\": 0.045449420714663284,\n        \"min\": 2.26168506209999,\n        \"max\": 2.37986050514,\n        \"num_unique_values\": 28,\n        \"samples\": [\n          2.34630654136,\n          2.26703681762999,\n          2.35736001777\n        ],\n        \"semantic_type\": \"\",\n        \"description\": \"\"\n      }\n    },\n    {\n      \"column\": \"Poland\",\n      \"properties\": {\n        \"dtype\": \"number\",\n        \"std\": 0.023323477113771935,\n        \"min\": 2.23695087443,\n        \"max\": 2.32588038216,\n        \"num_unique_values\": 28,\n        \"samples\": [\n          2.32303707019,\n          2.26383338936,\n          2.32030322223999\n        ],\n        \"semantic_type\": \"\",\n        \"description\": \"\"\n      }\n    },\n    {\n      \"column\": \"Romania\",\n      \"properties\": {\n        \"dtype\": \"number\",\n        \"std\": 0.014387990613427184,\n        \"min\": 2.33114868073,\n        \"max\": 2.37294198936,\n        \"num_unique_values\": 28,\n        \"samples\": [\n          2.35529921112999,\n          2.34389871564,\n          2.36104793434\n        ],\n        \"semantic_type\": \"\",\n        \"description\": \"\"\n      }\n    },\n    {\n      \"column\": \"Slovakia\",\n      \"properties\": {\n        \"dtype\": \"number\",\n        \"std\": 0.05490727403338525,\n        \"min\": 2.40199854722,\n        \"max\": 2.55092585772,\n        \"num_unique_values\": 28,\n        \"samples\": [\n          2.52206760869,\n          2.40661421659,\n          2.53058275293\n        ],\n        \"semantic_type\": \"\",\n        \"description\": \"\"\n      }\n    }\n  ]\n}"
            }
          },
          "metadata": {},
          "execution_count": 14
        }
      ]
    },
    {
      "cell_type": "markdown",
      "source": [
        "Сводная таблица для стран с максим. депрессией"
      ],
      "metadata": {
        "id": "mHEHylbrkWmT"
      }
    },
    {
      "cell_type": "code",
      "source": [
        "a = df[df['Country'].isin(max_depression)]\n",
        "table_max = a.pivot(index=\"Year\", columns=\"Country\", values=\"Depression\")\n",
        "table_max.head()"
      ],
      "metadata": {
        "colab": {
          "base_uri": "https://localhost:8080/",
          "height": 237
        },
        "id": "MzTKkeiMkW5k",
        "outputId": "45d097cf-b431-4cdf-d59c-5085170bbaab"
      },
      "execution_count": 15,
      "outputs": [
        {
          "output_type": "execute_result",
          "data": {
            "text/plain": [
              "Country  Australia   Finland  Greenland      Iran   Lesotho   Morocco  \\\n",
              "Year                                                                    \n",
              "1990      4.621187  5.427329   6.282583  4.712232  5.268593  5.468472   \n",
              "1991      4.671933  5.461775   6.382405  4.747700  5.237179  5.457810   \n",
              "1992      4.715412  5.486011   6.472683  4.777006  5.211806  5.451200   \n",
              "1993      4.754454  5.504764   6.539495  4.800820  5.192722  5.452734   \n",
              "1994      4.783948  5.512826   6.582469  4.817555  5.184715  5.456423   \n",
              "\n",
              "Country  Palestine  Portugal    Uganda  United States  \n",
              "Year                                                   \n",
              "1990      4.755201  4.748400  5.003476       4.677591  \n",
              "1991      4.706693  4.729642  5.042760       4.660871  \n",
              "1992      4.676366  4.716369  5.084955       4.651949  \n",
              "1993      4.658173  4.702669  5.128660       4.648701  \n",
              "1994      4.648547  4.690671  5.171294       4.649294  "
            ],
            "text/html": [
              "\n",
              "  <div id=\"df-82d439a9-ad5a-4927-acf6-ce87aa410a9a\" class=\"colab-df-container\">\n",
              "    <div>\n",
              "<style scoped>\n",
              "    .dataframe tbody tr th:only-of-type {\n",
              "        vertical-align: middle;\n",
              "    }\n",
              "\n",
              "    .dataframe tbody tr th {\n",
              "        vertical-align: top;\n",
              "    }\n",
              "\n",
              "    .dataframe thead th {\n",
              "        text-align: right;\n",
              "    }\n",
              "</style>\n",
              "<table border=\"1\" class=\"dataframe\">\n",
              "  <thead>\n",
              "    <tr style=\"text-align: right;\">\n",
              "      <th>Country</th>\n",
              "      <th>Australia</th>\n",
              "      <th>Finland</th>\n",
              "      <th>Greenland</th>\n",
              "      <th>Iran</th>\n",
              "      <th>Lesotho</th>\n",
              "      <th>Morocco</th>\n",
              "      <th>Palestine</th>\n",
              "      <th>Portugal</th>\n",
              "      <th>Uganda</th>\n",
              "      <th>United States</th>\n",
              "    </tr>\n",
              "    <tr>\n",
              "      <th>Year</th>\n",
              "      <th></th>\n",
              "      <th></th>\n",
              "      <th></th>\n",
              "      <th></th>\n",
              "      <th></th>\n",
              "      <th></th>\n",
              "      <th></th>\n",
              "      <th></th>\n",
              "      <th></th>\n",
              "      <th></th>\n",
              "    </tr>\n",
              "  </thead>\n",
              "  <tbody>\n",
              "    <tr>\n",
              "      <th>1990</th>\n",
              "      <td>4.621187</td>\n",
              "      <td>5.427329</td>\n",
              "      <td>6.282583</td>\n",
              "      <td>4.712232</td>\n",
              "      <td>5.268593</td>\n",
              "      <td>5.468472</td>\n",
              "      <td>4.755201</td>\n",
              "      <td>4.748400</td>\n",
              "      <td>5.003476</td>\n",
              "      <td>4.677591</td>\n",
              "    </tr>\n",
              "    <tr>\n",
              "      <th>1991</th>\n",
              "      <td>4.671933</td>\n",
              "      <td>5.461775</td>\n",
              "      <td>6.382405</td>\n",
              "      <td>4.747700</td>\n",
              "      <td>5.237179</td>\n",
              "      <td>5.457810</td>\n",
              "      <td>4.706693</td>\n",
              "      <td>4.729642</td>\n",
              "      <td>5.042760</td>\n",
              "      <td>4.660871</td>\n",
              "    </tr>\n",
              "    <tr>\n",
              "      <th>1992</th>\n",
              "      <td>4.715412</td>\n",
              "      <td>5.486011</td>\n",
              "      <td>6.472683</td>\n",
              "      <td>4.777006</td>\n",
              "      <td>5.211806</td>\n",
              "      <td>5.451200</td>\n",
              "      <td>4.676366</td>\n",
              "      <td>4.716369</td>\n",
              "      <td>5.084955</td>\n",
              "      <td>4.651949</td>\n",
              "    </tr>\n",
              "    <tr>\n",
              "      <th>1993</th>\n",
              "      <td>4.754454</td>\n",
              "      <td>5.504764</td>\n",
              "      <td>6.539495</td>\n",
              "      <td>4.800820</td>\n",
              "      <td>5.192722</td>\n",
              "      <td>5.452734</td>\n",
              "      <td>4.658173</td>\n",
              "      <td>4.702669</td>\n",
              "      <td>5.128660</td>\n",
              "      <td>4.648701</td>\n",
              "    </tr>\n",
              "    <tr>\n",
              "      <th>1994</th>\n",
              "      <td>4.783948</td>\n",
              "      <td>5.512826</td>\n",
              "      <td>6.582469</td>\n",
              "      <td>4.817555</td>\n",
              "      <td>5.184715</td>\n",
              "      <td>5.456423</td>\n",
              "      <td>4.648547</td>\n",
              "      <td>4.690671</td>\n",
              "      <td>5.171294</td>\n",
              "      <td>4.649294</td>\n",
              "    </tr>\n",
              "  </tbody>\n",
              "</table>\n",
              "</div>\n",
              "    <div class=\"colab-df-buttons\">\n",
              "\n",
              "  <div class=\"colab-df-container\">\n",
              "    <button class=\"colab-df-convert\" onclick=\"convertToInteractive('df-82d439a9-ad5a-4927-acf6-ce87aa410a9a')\"\n",
              "            title=\"Convert this dataframe to an interactive table.\"\n",
              "            style=\"display:none;\">\n",
              "\n",
              "  <svg xmlns=\"http://www.w3.org/2000/svg\" height=\"24px\" viewBox=\"0 -960 960 960\">\n",
              "    <path d=\"M120-120v-720h720v720H120Zm60-500h600v-160H180v160Zm220 220h160v-160H400v160Zm0 220h160v-160H400v160ZM180-400h160v-160H180v160Zm440 0h160v-160H620v160ZM180-180h160v-160H180v160Zm440 0h160v-160H620v160Z\"/>\n",
              "  </svg>\n",
              "    </button>\n",
              "\n",
              "  <style>\n",
              "    .colab-df-container {\n",
              "      display:flex;\n",
              "      gap: 12px;\n",
              "    }\n",
              "\n",
              "    .colab-df-convert {\n",
              "      background-color: #E8F0FE;\n",
              "      border: none;\n",
              "      border-radius: 50%;\n",
              "      cursor: pointer;\n",
              "      display: none;\n",
              "      fill: #1967D2;\n",
              "      height: 32px;\n",
              "      padding: 0 0 0 0;\n",
              "      width: 32px;\n",
              "    }\n",
              "\n",
              "    .colab-df-convert:hover {\n",
              "      background-color: #E2EBFA;\n",
              "      box-shadow: 0px 1px 2px rgba(60, 64, 67, 0.3), 0px 1px 3px 1px rgba(60, 64, 67, 0.15);\n",
              "      fill: #174EA6;\n",
              "    }\n",
              "\n",
              "    .colab-df-buttons div {\n",
              "      margin-bottom: 4px;\n",
              "    }\n",
              "\n",
              "    [theme=dark] .colab-df-convert {\n",
              "      background-color: #3B4455;\n",
              "      fill: #D2E3FC;\n",
              "    }\n",
              "\n",
              "    [theme=dark] .colab-df-convert:hover {\n",
              "      background-color: #434B5C;\n",
              "      box-shadow: 0px 1px 3px 1px rgba(0, 0, 0, 0.15);\n",
              "      filter: drop-shadow(0px 1px 2px rgba(0, 0, 0, 0.3));\n",
              "      fill: #FFFFFF;\n",
              "    }\n",
              "  </style>\n",
              "\n",
              "    <script>\n",
              "      const buttonEl =\n",
              "        document.querySelector('#df-82d439a9-ad5a-4927-acf6-ce87aa410a9a button.colab-df-convert');\n",
              "      buttonEl.style.display =\n",
              "        google.colab.kernel.accessAllowed ? 'block' : 'none';\n",
              "\n",
              "      async function convertToInteractive(key) {\n",
              "        const element = document.querySelector('#df-82d439a9-ad5a-4927-acf6-ce87aa410a9a');\n",
              "        const dataTable =\n",
              "          await google.colab.kernel.invokeFunction('convertToInteractive',\n",
              "                                                    [key], {});\n",
              "        if (!dataTable) return;\n",
              "\n",
              "        const docLinkHtml = 'Like what you see? Visit the ' +\n",
              "          '<a target=\"_blank\" href=https://colab.research.google.com/notebooks/data_table.ipynb>data table notebook</a>'\n",
              "          + ' to learn more about interactive tables.';\n",
              "        element.innerHTML = '';\n",
              "        dataTable['output_type'] = 'display_data';\n",
              "        await google.colab.output.renderOutput(dataTable, element);\n",
              "        const docLink = document.createElement('div');\n",
              "        docLink.innerHTML = docLinkHtml;\n",
              "        element.appendChild(docLink);\n",
              "      }\n",
              "    </script>\n",
              "  </div>\n",
              "\n",
              "\n",
              "<div id=\"df-00cdd5ed-15e4-4459-8663-791d10cd6693\">\n",
              "  <button class=\"colab-df-quickchart\" onclick=\"quickchart('df-00cdd5ed-15e4-4459-8663-791d10cd6693')\"\n",
              "            title=\"Suggest charts\"\n",
              "            style=\"display:none;\">\n",
              "\n",
              "<svg xmlns=\"http://www.w3.org/2000/svg\" height=\"24px\"viewBox=\"0 0 24 24\"\n",
              "     width=\"24px\">\n",
              "    <g>\n",
              "        <path d=\"M19 3H5c-1.1 0-2 .9-2 2v14c0 1.1.9 2 2 2h14c1.1 0 2-.9 2-2V5c0-1.1-.9-2-2-2zM9 17H7v-7h2v7zm4 0h-2V7h2v10zm4 0h-2v-4h2v4z\"/>\n",
              "    </g>\n",
              "</svg>\n",
              "  </button>\n",
              "\n",
              "<style>\n",
              "  .colab-df-quickchart {\n",
              "      --bg-color: #E8F0FE;\n",
              "      --fill-color: #1967D2;\n",
              "      --hover-bg-color: #E2EBFA;\n",
              "      --hover-fill-color: #174EA6;\n",
              "      --disabled-fill-color: #AAA;\n",
              "      --disabled-bg-color: #DDD;\n",
              "  }\n",
              "\n",
              "  [theme=dark] .colab-df-quickchart {\n",
              "      --bg-color: #3B4455;\n",
              "      --fill-color: #D2E3FC;\n",
              "      --hover-bg-color: #434B5C;\n",
              "      --hover-fill-color: #FFFFFF;\n",
              "      --disabled-bg-color: #3B4455;\n",
              "      --disabled-fill-color: #666;\n",
              "  }\n",
              "\n",
              "  .colab-df-quickchart {\n",
              "    background-color: var(--bg-color);\n",
              "    border: none;\n",
              "    border-radius: 50%;\n",
              "    cursor: pointer;\n",
              "    display: none;\n",
              "    fill: var(--fill-color);\n",
              "    height: 32px;\n",
              "    padding: 0;\n",
              "    width: 32px;\n",
              "  }\n",
              "\n",
              "  .colab-df-quickchart:hover {\n",
              "    background-color: var(--hover-bg-color);\n",
              "    box-shadow: 0 1px 2px rgba(60, 64, 67, 0.3), 0 1px 3px 1px rgba(60, 64, 67, 0.15);\n",
              "    fill: var(--button-hover-fill-color);\n",
              "  }\n",
              "\n",
              "  .colab-df-quickchart-complete:disabled,\n",
              "  .colab-df-quickchart-complete:disabled:hover {\n",
              "    background-color: var(--disabled-bg-color);\n",
              "    fill: var(--disabled-fill-color);\n",
              "    box-shadow: none;\n",
              "  }\n",
              "\n",
              "  .colab-df-spinner {\n",
              "    border: 2px solid var(--fill-color);\n",
              "    border-color: transparent;\n",
              "    border-bottom-color: var(--fill-color);\n",
              "    animation:\n",
              "      spin 1s steps(1) infinite;\n",
              "  }\n",
              "\n",
              "  @keyframes spin {\n",
              "    0% {\n",
              "      border-color: transparent;\n",
              "      border-bottom-color: var(--fill-color);\n",
              "      border-left-color: var(--fill-color);\n",
              "    }\n",
              "    20% {\n",
              "      border-color: transparent;\n",
              "      border-left-color: var(--fill-color);\n",
              "      border-top-color: var(--fill-color);\n",
              "    }\n",
              "    30% {\n",
              "      border-color: transparent;\n",
              "      border-left-color: var(--fill-color);\n",
              "      border-top-color: var(--fill-color);\n",
              "      border-right-color: var(--fill-color);\n",
              "    }\n",
              "    40% {\n",
              "      border-color: transparent;\n",
              "      border-right-color: var(--fill-color);\n",
              "      border-top-color: var(--fill-color);\n",
              "    }\n",
              "    60% {\n",
              "      border-color: transparent;\n",
              "      border-right-color: var(--fill-color);\n",
              "    }\n",
              "    80% {\n",
              "      border-color: transparent;\n",
              "      border-right-color: var(--fill-color);\n",
              "      border-bottom-color: var(--fill-color);\n",
              "    }\n",
              "    90% {\n",
              "      border-color: transparent;\n",
              "      border-bottom-color: var(--fill-color);\n",
              "    }\n",
              "  }\n",
              "</style>\n",
              "\n",
              "  <script>\n",
              "    async function quickchart(key) {\n",
              "      const quickchartButtonEl =\n",
              "        document.querySelector('#' + key + ' button');\n",
              "      quickchartButtonEl.disabled = true;  // To prevent multiple clicks.\n",
              "      quickchartButtonEl.classList.add('colab-df-spinner');\n",
              "      try {\n",
              "        const charts = await google.colab.kernel.invokeFunction(\n",
              "            'suggestCharts', [key], {});\n",
              "      } catch (error) {\n",
              "        console.error('Error during call to suggestCharts:', error);\n",
              "      }\n",
              "      quickchartButtonEl.classList.remove('colab-df-spinner');\n",
              "      quickchartButtonEl.classList.add('colab-df-quickchart-complete');\n",
              "    }\n",
              "    (() => {\n",
              "      let quickchartButtonEl =\n",
              "        document.querySelector('#df-00cdd5ed-15e4-4459-8663-791d10cd6693 button');\n",
              "      quickchartButtonEl.style.display =\n",
              "        google.colab.kernel.accessAllowed ? 'block' : 'none';\n",
              "    })();\n",
              "  </script>\n",
              "</div>\n",
              "    </div>\n",
              "  </div>\n"
            ],
            "application/vnd.google.colaboratory.intrinsic+json": {
              "type": "dataframe",
              "variable_name": "table_max",
              "summary": "{\n  \"name\": \"table_max\",\n  \"rows\": 28,\n  \"fields\": [\n    {\n      \"column\": \"Year\",\n      \"properties\": {\n        \"dtype\": \"number\",\n        \"std\": 8,\n        \"min\": 1990,\n        \"max\": 2017,\n        \"num_unique_values\": 28,\n        \"samples\": [\n          1999,\n          2015,\n          1998\n        ],\n        \"semantic_type\": \"\",\n        \"description\": \"\"\n      }\n    },\n    {\n      \"column\": \"Australia\",\n      \"properties\": {\n        \"dtype\": \"number\",\n        \"std\": 0.0874999494632019,\n        \"min\": 4.62118658828,\n        \"max\": 4.92903825605,\n        \"num_unique_values\": 28,\n        \"samples\": [\n          4.79689641226,\n          4.69677400581,\n          4.80131706902\n        ],\n        \"semantic_type\": \"\",\n        \"description\": \"\"\n      }\n    },\n    {\n      \"column\": \"Finland\",\n      \"properties\": {\n        \"dtype\": \"number\",\n        \"std\": 0.2484773237154701,\n        \"min\": 4.79273560626,\n        \"max\": 5.51282624632,\n        \"num_unique_values\": 28,\n        \"samples\": [\n          5.38009683248,\n          4.85756466413,\n          5.41904251767999\n        ],\n        \"semantic_type\": \"\",\n        \"description\": \"\"\n      }\n    },\n    {\n      \"column\": \"Greenland\",\n      \"properties\": {\n        \"dtype\": \"number\",\n        \"std\": 0.10553988395788076,\n        \"min\": 6.23363488551,\n        \"max\": 6.60275355192,\n        \"num_unique_values\": 28,\n        \"samples\": [\n          6.56948469898999,\n          6.31413397922999,\n          6.58673376018\n        ],\n        \"semantic_type\": \"\",\n        \"description\": \"\"\n      }\n    },\n    {\n      \"column\": \"Iran\",\n      \"properties\": {\n        \"dtype\": \"number\",\n        \"std\": 0.10496592734348525,\n        \"min\": 4.71223247139,\n        \"max\": 5.11634462915,\n        \"num_unique_values\": 28,\n        \"samples\": [\n          4.76105288005,\n          5.0398313705,\n          4.77942810232\n        ],\n        \"semantic_type\": \"\",\n        \"description\": \"\"\n      }\n    },\n    {\n      \"column\": \"Lesotho\",\n      \"properties\": {\n        \"dtype\": \"number\",\n        \"std\": 0.17216155688035434,\n        \"min\": 5.18471507935,\n        \"max\": 5.6366607037,\n        \"num_unique_values\": 28,\n        \"samples\": [\n          5.29802555785,\n          5.63103979038,\n          5.26585078673\n        ],\n        \"semantic_type\": \"\",\n        \"description\": \"\"\n      }\n    },\n    {\n      \"column\": \"Morocco\",\n      \"properties\": {\n        \"dtype\": \"number\",\n        \"std\": 0.11967291287578623,\n        \"min\": 5.41357318493,\n        \"max\": 5.74470369348,\n        \"num_unique_values\": 28,\n        \"samples\": [\n          5.7072766168,\n          5.52670533679,\n          5.64116101355\n        ],\n        \"semantic_type\": \"\",\n        \"description\": \"\"\n      }\n    },\n    {\n      \"column\": \"Palestine\",\n      \"properties\": {\n        \"dtype\": \"number\",\n        \"std\": 0.11371228678426405,\n        \"min\": 4.64674578915,\n        \"max\": 4.9536740711,\n        \"num_unique_values\": 28,\n        \"samples\": [\n          4.91729775801,\n          4.74159219713,\n          4.84212940956\n        ],\n        \"semantic_type\": \"\",\n        \"description\": \"\"\n      }\n    },\n    {\n      \"column\": \"Portugal\",\n      \"properties\": {\n        \"dtype\": \"number\",\n        \"std\": 0.09191243581065499,\n        \"min\": 4.42146054723,\n        \"max\": 4.8088745622,\n        \"num_unique_values\": 28,\n        \"samples\": [\n          4.66346174715,\n          4.56140292832,\n          4.66441778167\n        ],\n        \"semantic_type\": \"\",\n        \"description\": \"\"\n      }\n    },\n    {\n      \"column\": \"Uganda\",\n      \"properties\": {\n        \"dtype\": \"number\",\n        \"std\": 0.17459831637303722,\n        \"min\": 4.91802815738,\n        \"max\": 5.45755044465,\n        \"num_unique_values\": 28,\n        \"samples\": [\n          5.43579554757,\n          4.99600416161,\n          5.39060968904\n        ],\n        \"semantic_type\": \"\",\n        \"description\": \"\"\n      }\n    },\n    {\n      \"column\": \"United States\",\n      \"properties\": {\n        \"dtype\": \"number\",\n        \"std\": 0.057618923948515165,\n        \"min\": 4.64870140665,\n        \"max\": 4.83561040879,\n        \"num_unique_values\": 28,\n        \"samples\": [\n          4.74999125097,\n          4.79595391935,\n          4.72071556335\n        ],\n        \"semantic_type\": \"\",\n        \"description\": \"\"\n      }\n    }\n  ]\n}"
            }
          },
          "metadata": {},
          "execution_count": 15
        }
      ]
    },
    {
      "cell_type": "markdown",
      "source": [
        "График изменения депрессии с 1990 по 2017 в странах с мин. депрессией"
      ],
      "metadata": {
        "id": "m9Jh_I6ffVci"
      }
    },
    {
      "cell_type": "code",
      "source": [
        "sns.lineplot(data=table_min)"
      ],
      "metadata": {
        "id": "hTZSCpciXWFq",
        "colab": {
          "base_uri": "https://localhost:8080/",
          "height": 467
        },
        "outputId": "c51a1084-2e79-49f6-e392-afce68f30d3d"
      },
      "execution_count": 16,
      "outputs": [
        {
          "output_type": "execute_result",
          "data": {
            "text/plain": [
              "<Axes: xlabel='Year'>"
            ]
          },
          "metadata": {},
          "execution_count": 16
        },
        {
          "output_type": "display_data",
          "data": {
            "text/plain": [
              "<Figure size 640x480 with 1 Axes>"
            ],
            "image/png": "[encoded data removed]"
          },
          "metadata": {}
        }
      ]
    },
    {
      "cell_type": "markdown",
      "source": [
        "Из графика видно, что у большинства стран из списка мин. топ-10 уровень депрессии постепенно снижается, только в Колумбии, к 2005 году резко повысилось значение, но потом сразу пошло на спад, а также исключением стала Албания, уровень депрессии в которой всегда минимален, но понемногу повышается"
      ],
      "metadata": {
        "id": "dafL-d4IgBiD"
      }
    },
    {
      "cell_type": "markdown",
      "source": [
        "График изменения депрессии с 1990 по 2017 в странах с макс. депрессией"
      ],
      "metadata": {
        "id": "UZ7V0RiXlCzb"
      }
    },
    {
      "cell_type": "code",
      "source": [
        "sns.lineplot(data=table_max)"
      ],
      "metadata": {
        "colab": {
          "base_uri": "https://localhost:8080/",
          "height": 467
        },
        "id": "OjxuXl3vlDHe",
        "outputId": "838a031f-b475-4f6f-fb82-0325123c9468"
      },
      "execution_count": 17,
      "outputs": [
        {
          "output_type": "execute_result",
          "data": {
            "text/plain": [
              "<Axes: xlabel='Year'>"
            ]
          },
          "metadata": {},
          "execution_count": 17
        },
        {
          "output_type": "display_data",
          "data": {
            "text/plain": [
              "<Figure size 640x480 with 1 Axes>"
            ],
            "image/png": "[encoded data removed]"
          },
          "metadata": {}
        }
      ]
    },
    {
      "cell_type": "markdown",
      "source": [
        "Четко видно, что из всех стран на графике выделяется Гренландия, и я считаю, что это неудивительно,т.к. минимальное посутпление света от солнца плюс неблагоприятные условия для жизни не лучшим образом влияют на психику человека. Также могу добавить, что на этом графике присутствуют как бедные страны, н-р Уганда, так и богатые, даже богатых оказалось большинство. Я считаю, так получилось, потому что с одной стороны в богатых страных больше медицинских специалистов, которые могут поставить диагноз \"Депрессия\" и также с другой стороны у людей хватает денег и они сами могут часто обращаться к этим же специалистам."
      ],
      "metadata": {
        "id": "MOfZaX--Yiv9"
      }
    },
    {
      "cell_type": "code",
      "source": [
        "mental_illness_columns = [\n",
        "    'Schizophrenia',\n",
        "    'Bipolar disorder',\n",
        "    'Eating disorders',\n",
        "    'Anxiety disorders',\n",
        "    'Drug use disorders',\n",
        "    'Depression',\n",
        "    'Alcohol use disorders'\n",
        "]\n",
        "\n",
        "max_values = []\n",
        "for column in mental_illness_columns:\n",
        "    max_row = df.loc[df[column].idxmax()]\n",
        "    max_values.append({\n",
        "        'Mental Illness': column,\n",
        "        'Country': max_row['Country'],\n",
        "        'Year': max_row['Year'],\n",
        "        'Max Percentage': max_row[column]\n",
        "    })\n",
        "\n",
        "max_df = pd.DataFrame(max_values)\n",
        "\n",
        "\n",
        "plt.figure(figsize=(14, 8))\n",
        "for i, row in max_df.iterrows():\n",
        "    plt.barh(row['Mental Illness'], row['Max Percentage'], label=f\"{row['Country']} ({row['Year']})\")\n",
        "\n",
        "plt.xlabel('Процент (%)')\n",
        "plt.title('Страна и год с самым высоким уровнем психических заболеваний')\n",
        "plt.legend(title='Страна и год')\n",
        "plt.grid(axis='x')\n",
        "plt.show()"
      ],
      "metadata": {
        "colab": {
          "base_uri": "https://localhost:8080/",
          "height": 608
        },
        "id": "n30omFWRW03P",
        "outputId": "63dfbdac-53de-42e2-be9a-fe8c5d17ade5"
      },
      "execution_count": 50,
      "outputs": [
        {
          "output_type": "display_data",
          "data": {
            "text/plain": [
              "<Figure size 1400x800 with 1 Axes>"
            ],
            "image/png": "[encoded data removed]"
          },
          "metadata": {}
        }
      ]
    },
    {
      "cell_type": "markdown",
      "source": [
        "## Построение регрессии"
      ],
      "metadata": {
        "id": "z569YB4ubyds"
      }
    },
    {
      "cell_type": "code",
      "source": [
        "df.info()"
      ],
      "metadata": {
        "colab": {
          "base_uri": "https://localhost:8080/"
        },
        "id": "PXzFXNx2cdFa",
        "outputId": "def96557-761c-4b9a-b8a9-58fe4c51fd38"
      },
      "execution_count": 18,
      "outputs": [
        {
          "output_type": "stream",
          "name": "stdout",
          "text": [
            "<class 'pandas.core.frame.DataFrame'>\n",
            "RangeIndex: 6468 entries, 0 to 6467\n",
            "Data columns (total 10 columns):\n",
            " #   Column                 Non-Null Count  Dtype  \n",
            "---  ------                 --------------  -----  \n",
            " 0   Country                6468 non-null   object \n",
            " 1   Code                   5488 non-null   object \n",
            " 2   Year                   6468 non-null   int64  \n",
            " 3   Schizophrenia          6468 non-null   float64\n",
            " 4   Bipolar disorder       6468 non-null   float64\n",
            " 5   Eating disorders       6468 non-null   float64\n",
            " 6   Anxiety disorders      6468 non-null   float64\n",
            " 7   Drug use disorders     6468 non-null   float64\n",
            " 8   Depression             6468 non-null   float64\n",
            " 9   Alcohol use disorders  6468 non-null   float64\n",
            "dtypes: float64(7), int64(1), object(2)\n",
            "memory usage: 505.4+ KB\n"
          ]
        }
      ]
    },
    {
      "cell_type": "code",
      "source": [
        "df.columns"
      ],
      "metadata": {
        "colab": {
          "base_uri": "https://localhost:8080/"
        },
        "id": "mBnIlho0fIZK",
        "outputId": "44453afd-7e1c-43d5-915a-48ea1d88fa7a"
      },
      "execution_count": 19,
      "outputs": [
        {
          "output_type": "execute_result",
          "data": {
            "text/plain": [
              "Index(['Country', 'Code', 'Year', 'Schizophrenia', 'Bipolar disorder',\n",
              "       'Eating disorders', 'Anxiety disorders', 'Drug use disorders',\n",
              "       'Depression', 'Alcohol use disorders'],\n",
              "      dtype='object')"
            ]
          },
          "metadata": {},
          "execution_count": 19
        }
      ]
    },
    {
      "cell_type": "markdown",
      "source": [],
      "metadata": {
        "id": "1Nxxv7gEd564"
      }
    },
    {
      "cell_type": "code",
      "source": [
        "df_model1 = df.dropna(subset=['Depression', 'Schizophrenia', 'Bipolar disorder', 'Eating disorders',\n",
        "                             'Anxiety disorders', 'Drug use disorders', 'Alcohol use disorders'])\n",
        "x_mult = df_model1[['Schizophrenia', 'Bipolar disorder', 'Eating disorders',\n",
        "                             'Anxiety disorders', 'Drug use disorders', 'Alcohol use disorders']]\n",
        "y = df_model1['Depression']\n",
        "x_mult_constant = sm.add_constant(x_mult)\n",
        "model1 = sm.OLS(y, x_mult_constant).fit()\n",
        "print(model1.summary())"
      ],
      "metadata": {
        "colab": {
          "base_uri": "https://localhost:8080/"
        },
        "id": "nbEItCsKd6Kw",
        "outputId": "6994170e-d09b-440c-9401-11cd604c0d59"
      },
      "execution_count": 20,
      "outputs": [
        {
          "output_type": "stream",
          "name": "stdout",
          "text": [
            "                            OLS Regression Results                            \n",
            "==============================================================================\n",
            "Dep. Variable:             Depression   R-squared:                       0.221\n",
            "Model:                            OLS   Adj. R-squared:                  0.220\n",
            "Method:                 Least Squares   F-statistic:                     305.7\n",
            "Date:                Fri, 19 Jul 2024   Prob (F-statistic):               0.00\n",
            "Time:                        17:42:19   Log-Likelihood:                -5640.8\n",
            "No. Observations:                6468   AIC:                         1.130e+04\n",
            "Df Residuals:                    6461   BIC:                         1.134e+04\n",
            "Df Model:                           6                                         \n",
            "Covariance Type:            nonrobust                                         \n",
            "=========================================================================================\n",
            "                            coef    std err          t      P>|t|      [0.025      0.975]\n",
            "-----------------------------------------------------------------------------------------\n",
            "const                     3.3596      0.074     45.606      0.000       3.215       3.504\n",
            "Schizophrenia            -2.8188      0.269    -10.467      0.000      -3.347      -2.291\n",
            "Bipolar disorder         -1.2245      0.077    -15.983      0.000      -1.375      -1.074\n",
            "Eating disorders          0.6894      0.101      6.814      0.000       0.491       0.888\n",
            "Anxiety disorders         0.2462      0.011     23.233      0.000       0.225       0.267\n",
            "Drug use disorders        0.3386      0.021     16.420      0.000       0.298       0.379\n",
            "Alcohol use disorders     0.1108      0.009     12.695      0.000       0.094       0.128\n",
            "==============================================================================\n",
            "Omnibus:                      574.289   Durbin-Watson:                   0.066\n",
            "Prob(Omnibus):                  0.000   Jarque-Bera (JB):              846.443\n",
            "Skew:                           0.696   Prob(JB):                    1.58e-184\n",
            "Kurtosis:                       4.098   Cond. No.                         189.\n",
            "==============================================================================\n",
            "\n",
            "Notes:\n",
            "[1] Standard Errors assume that the covariance matrix of the errors is correctly specified.\n"
          ]
        }
      ]
    },
    {
      "cell_type": "code",
      "source": [
        "print(sm.OLS(zscore(y), zscore(x_mult)).fit().summary())"
      ],
      "metadata": {
        "colab": {
          "base_uri": "https://localhost:8080/"
        },
        "id": "alz5_qbOgE0s",
        "outputId": "f7d6b8df-b40c-47a7-ed6d-e9b76424bdf4"
      },
      "execution_count": 21,
      "outputs": [
        {
          "output_type": "stream",
          "name": "stdout",
          "text": [
            "                                 OLS Regression Results                                \n",
            "=======================================================================================\n",
            "Dep. Variable:             Depression   R-squared (uncentered):                   0.221\n",
            "Model:                            OLS   Adj. R-squared (uncentered):              0.220\n",
            "Method:                 Least Squares   F-statistic:                              305.7\n",
            "Date:                Fri, 19 Jul 2024   Prob (F-statistic):                        0.00\n",
            "Time:                        17:42:19   Log-Likelihood:                         -8369.6\n",
            "No. Observations:                6468   AIC:                                  1.675e+04\n",
            "Df Residuals:                    6462   BIC:                                  1.679e+04\n",
            "Df Model:                           6                                                  \n",
            "Covariance Type:            nonrobust                                                  \n",
            "=========================================================================================\n",
            "                            coef    std err          t      P>|t|      [0.025      0.975]\n",
            "-----------------------------------------------------------------------------------------\n",
            "Schizophrenia            -0.1902      0.018    -10.468      0.000      -0.226      -0.155\n",
            "Bipolar disorder         -0.3204      0.020    -15.984      0.000      -0.360      -0.281\n",
            "Eating disorders          0.1662      0.024      6.815      0.000       0.118       0.214\n",
            "Anxiety disorders         0.4382      0.019     23.235      0.000       0.401       0.475\n",
            "Drug use disorders        0.2378      0.014     16.421      0.000       0.209       0.266\n",
            "Alcohol use disorders     0.1453      0.011     12.696      0.000       0.123       0.168\n",
            "==============================================================================\n",
            "Omnibus:                      574.289   Durbin-Watson:                   0.066\n",
            "Prob(Omnibus):                  0.000   Jarque-Bera (JB):              846.443\n",
            "Skew:                           0.696   Prob(JB):                    1.58e-184\n",
            "Kurtosis:                       4.098   Cond. No.                         5.19\n",
            "==============================================================================\n",
            "\n",
            "Notes:\n",
            "[1] R² is computed without centering (uncentered) since the model does not contain a constant.\n",
            "[2] Standard Errors assume that the covariance matrix of the errors is correctly specified.\n"
          ]
        }
      ]
    },
    {
      "cell_type": "code",
      "source": [
        "print('R^2 = {:f}'.format(model1.rsquared))\n",
        "print('F-test significance = {:f}'.format(model1.f_pvalue))"
      ],
      "metadata": {
        "colab": {
          "base_uri": "https://localhost:8080/"
        },
        "id": "VbfT9Wdpf-6w",
        "outputId": "2f195542-98c8-47f5-ce54-4f20c5163b46"
      },
      "execution_count": 22,
      "outputs": [
        {
          "output_type": "stream",
          "name": "stdout",
          "text": [
            "R^2 = 0.221111\n",
            "F-test significance = 0.000000\n"
          ]
        }
      ]
    },
    {
      "cell_type": "code",
      "source": [
        "f'Статистически значимые параметры модели: {model1.pvalues[model1.pvalues < 0.05].index.values}'"
      ],
      "metadata": {
        "colab": {
          "base_uri": "https://localhost:8080/",
          "height": 54
        },
        "id": "hETiYiXTgQTd",
        "outputId": "1fd13d05-c7fb-436c-fdf0-09647eb2587f"
      },
      "execution_count": 23,
      "outputs": [
        {
          "output_type": "execute_result",
          "data": {
            "text/plain": [
              "\"Статистически значимые параметры модели: ['const' 'Schizophrenia' 'Bipolar disorder' 'Eating disorders'\\n 'Anxiety disorders' 'Drug use disorders' 'Alcohol use disorders']\""
            ],
            "application/vnd.google.colaboratory.intrinsic+json": {
              "type": "string"
            }
          },
          "metadata": {},
          "execution_count": 23
        }
      ]
    },
    {
      "cell_type": "code",
      "source": [
        "f'Статистически не значимые параметры модели: {model1.pvalues[model1.pvalues > 0.05].index.values}'"
      ],
      "metadata": {
        "colab": {
          "base_uri": "https://localhost:8080/",
          "height": 36
        },
        "id": "4riP3nqMgWWL",
        "outputId": "bc1dd6e8-2130-401e-cf89-e56237c07cd0"
      },
      "execution_count": 24,
      "outputs": [
        {
          "output_type": "execute_result",
          "data": {
            "text/plain": [
              "'Статистически не значимые параметры модели: []'"
            ],
            "application/vnd.google.colaboratory.intrinsic+json": {
              "type": "string"
            }
          },
          "metadata": {},
          "execution_count": 24
        }
      ]
    },
    {
      "cell_type": "markdown",
      "source": [
        "Результаты исследования регрессии оказались для меня лично неожиданными:\n",
        "\n",
        "Оказалось, что больше всего на увеличение депрессии в среднем по стране влияет процент пищевых расстройств, и надо отметить, что даже больше чем расстройства, связанные с приемом алкоголя или наркотиков"
      ],
      "metadata": {
        "id": "iZ8bTbcRhU5t"
      }
    }
  ]
}